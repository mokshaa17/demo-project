{
 "cells": [
  {
   "cell_type": "code",
   "execution_count": 16,
   "id": "b6c6b24b",
   "metadata": {},
   "outputs": [
    {
     "name": "stdout",
     "output_type": "stream",
     "text": [
      "Tokens: ['i', 'am', 'learning', 'generative', 'ai']\n"
     ]
    }
   ],
   "source": [
    "import nltk\n",
    "from nltk.tokenize import word_tokenize\n",
    "sample_text = 'I am learning Generative AI'\n",
    "tokens = nltk.word_tokenize(sample_text.lower())\n",
    "\n",
    "print('Tokens:', tokens)"
   ]
  },
  {
   "cell_type": "code",
   "execution_count": null,
   "id": "0827f72f",
   "metadata": {},
   "outputs": [
    {
     "name": "stdout",
     "output_type": "stream",
     "text": [
      "[('I', 'am'), ('am', 'learning'), ('learning', 'AI')]\n"
     ]
    }
   ],
   "source": [
    "import nltk\n",
    "from nltk import word_tokenize\n",
    "from nltk.util import ngrams\n",
    "\n",
    "sentence = \"I am learning AI\"\n",
    "tokens = word_tokenize(sentence)\n",
    "birams = list(ngrams(tokens, 2)) # Bigram\n",
    "\n",
    "print(birams)"
   ]
  },
  {
   "cell_type": "code",
   "execution_count": 8,
   "id": "fafcaefa",
   "metadata": {},
   "outputs": [
    {
     "name": "stdout",
     "output_type": "stream",
     "text": [
      "Accuracy: 1.0\n"
     ]
    }
   ],
   "source": [
    "from sklearn.feature_extraction.text import CountVectorizer\n",
    "from sklearn.naive_bayes import MultinomialNB\n",
    "from sklearn.model_selection import train_test_split\n",
    "from sklearn.metrics import accuracy_score\n",
    "# Sample data\n",
    "texts = [\n",
    "  'I love programming.', 'Python is amazing.',\n",
    "  'I enjoy machine learning.', 'The weather is nice today.', 'I like algo.',\n",
    "  'Machine learning is fascinating.', 'Natural Language Processing is a part of AI.'\n",
    "]\n",
    "\n",
    "labels = [\n",
    "  'tech', 'tech', 'tech', 'non-tech', 'tech', 'tech', 'tech'\n",
    "]\n",
    "\n",
    "vectorizer = CountVectorizer()\n",
    "x = vectorizer.fit_transform(texts)\n",
    "x_train, x_test, y_train, y_test = train_test_split(x, labels, test_size=0.2, random_state=42)\n",
    "model = MultinomialNB()\n",
    "model.fit(x_train, y_train)\n",
    "y_pred = model.predict(x_test)\n",
    "accuracy = accuracy_score(y_test, y_pred)\n",
    "print(\"Accuracy:\", accuracy)\n",
    "\n"
   ]
  },
  {
   "cell_type": "code",
   "execution_count": 20,
   "id": "1385221a",
   "metadata": {},
   "outputs": [
    {
     "name": "stdout",
     "output_type": "stream",
     "text": [
      "['amazing' 'gg' 'is' 'love' 'programming' 'python']\n"
     ]
    }
   ],
   "source": [
    "from sklearn.feature_extraction.text import CountVectorizer\n",
    "\n",
    "texts = [\"I love q gg h i programming\", \" I Python is a amazing\"]\n",
    "vectorizer = CountVectorizer()\n",
    "CountVectorizer(token_pattern=r'(?u)\\b\\w+\\b')\n",
    "\n",
    "x = vectorizer.fit_transform(texts)\n",
    "print(vectorizer.get_feature_names_out())\n"
   ]
  }
 ],
 "metadata": {
  "kernelspec": {
   "display_name": "venv",
   "language": "python",
   "name": "python3"
  },
  "language_info": {
   "codemirror_mode": {
    "name": "ipython",
    "version": 3
   },
   "file_extension": ".py",
   "mimetype": "text/x-python",
   "name": "python",
   "nbconvert_exporter": "python",
   "pygments_lexer": "ipython3",
   "version": "3.13.2"
  }
 },
 "nbformat": 4,
 "nbformat_minor": 5
}
